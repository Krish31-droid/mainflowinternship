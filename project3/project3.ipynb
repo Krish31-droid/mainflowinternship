{
 "cells": [
  {
   "cell_type": "code",
   "execution_count": null,
   "id": "b061951c-34a3-4c7e-a7ce-2487512c98f3",
   "metadata": {},
   "outputs": [],
   "source": [
    " import pandas as pd\n",
    " df = pd.read_csv('Customers.csv')\n",
    " # Inspect the dataset\n",
    " print(df.head())  \n",
    " print(df.shape)   \n",
    "\n",
    " print(df.info())  \n",
    " print(df.duplicated().sum())  # Check for duplicates\n",
    " print(df.describe())  # Summary statistics"
   ]
  }
 ],
 "metadata": {
  "kernelspec": {
   "display_name": "Python 3 (ipykernel)",
   "language": "python",
   "name": "python3"
  },
  "language_info": {
   "codemirror_mode": {
    "name": "ipython",
    "version": 3
   },
   "file_extension": ".py",
   "mimetype": "text/x-python",
   "name": "python",
   "nbconvert_exporter": "python",
   "pygments_lexer": "ipython3",
   "version": "3.12.9"
  }
 },
 "nbformat": 4,
 "nbformat_minor": 5
}

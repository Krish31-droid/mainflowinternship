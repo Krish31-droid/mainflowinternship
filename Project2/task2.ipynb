{
 "cells": [
  {
   "cell_type": "code",
   "execution_count": null,
   "id": "f9d5fd6b-e270-431c-8a76-72af1c236863",
   "metadata": {},
   "outputs": [],
   "source": [
    " import pandas as pd\n",
    " import numpy as np\n",
    " import matplotlib.pyplot as plt\n",
    " import seaborn as sns\n",
    " from sklearn.model_selection import train_test_split\n",
    " from sklearn.linear_model import LinearRegression\n",
    " from sklearn.metrics import mean_squared_error, r2_score\n",
    " # Load the dataset\n",
    " file_path = 'SalesData.csv'  # Adjust the path as necessary\n",
    " data = pd.read_csv(file_path)\n",
    " # Inspect the dataset\n",
    " print(\"Shape of the dataset:\", data.shape)\n",
    " print(\"Missing values:\\n\", data.isnull().sum())\n",
    " print(\"Data types:\\n\", data.dtypes)"
   ]
  }
 ],
 "metadata": {
  "kernelspec": {
   "display_name": "Python 3 (ipykernel)",
   "language": "python",
   "name": "python3"
  },
  "language_info": {
   "codemirror_mode": {
    "name": "ipython",
    "version": 3
   },
   "file_extension": ".py",
   "mimetype": "text/x-python",
   "name": "python",
   "nbconvert_exporter": "python",
   "pygments_lexer": "ipython3",
   "version": "3.12.9"
  }
 },
 "nbformat": 4,
 "nbformat_minor": 5
}
